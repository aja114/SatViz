{
 "cells": [
  {
   "cell_type": "code",
   "execution_count": 124,
   "metadata": {},
   "outputs": [],
   "source": [
    "import spacetrack.operators as op\n",
    "from spacetrack import SpaceTrackClient\n",
    "import pandas as pd\n",
    "import skyfield.api as sky\n",
    "from skyfield import timelib\n",
    "import pymongo\n",
    "import time\n",
    "import json\n",
    "\n",
    "st = SpaceTrackClient(identity='alexandreabouchahine@gmail.com', password='a2SzJcdBiqtd9j!')"
   ]
  },
  {
   "cell_type": "code",
   "execution_count": 125,
   "metadata": {},
   "outputs": [],
   "source": [
    "mc = pymongo.MongoClient(username=\"alex\", password=\"alex\", connect=True)"
   ]
  },
  {
   "cell_type": "code",
   "execution_count": 128,
   "metadata": {},
   "outputs": [],
   "source": [
    "sat = st.satcat(orderby='launch')"
   ]
  },
  {
   "cell_type": "code",
   "execution_count": 129,
   "metadata": {},
   "outputs": [],
   "source": [
    "ls = st.generic_request(\"launch_site\")\n",
    "ls = {\n",
    "    x[\"SITE_CODE\"]: x[\"LAUNCH_SITE\"] \n",
    "    for x in ls\n",
    "}"
   ]
  },
  {
   "cell_type": "code",
   "execution_count": 130,
   "metadata": {},
   "outputs": [],
   "source": [
    "countries = st.boxscore()\n",
    "countries_mapping = {\n",
    "    x[\"SPADOC_CD\"]: x[\"COUNTRY\"]\n",
    "    for x in countries\n",
    "}"
   ]
  },
  {
   "cell_type": "code",
   "execution_count": 131,
   "metadata": {},
   "outputs": [],
   "source": [
    "remove_keys = {\n",
    "    'COMMENT', 'COMMENTCODE', 'CURRENT', 'FILE', 'INTLDES', 'LAUNCH_NUM', 'LAUNCH_PIECE',\n",
    "    'LAUNCH_YEAR', 'OBJECT_NAME', 'RCSVALUE', 'RCS_SIZE'\n",
    "}\n",
    "for s in sat:\n",
    "    s[\"SITE\"] = ls.get(s[\"SITE\"], s[\"SITE\"])\n",
    "    s[\"COUNTRY\"] = countries_mapping.get(s[\"COUNTRY\"], s[\"COUNTRY\"])\n",
    "    for rk in remove_keys:\n",
    "        del s[rk]"
   ]
  },
  {
   "cell_type": "code",
   "execution_count": 132,
   "metadata": {},
   "outputs": [
    {
     "data": {
      "text/plain": [
       "<pymongo.results.InsertManyResult at 0x120850ac0>"
      ]
     },
     "execution_count": 132,
     "metadata": {},
     "output_type": "execute_result"
    }
   ],
   "source": [
    "mc[\"sat\"].catalogue.insert_many(sat)\n",
    "mc[\"sat\"].countries.insert_many(countries)"
   ]
  },
  {
   "cell_type": "code",
   "execution_count": null,
   "metadata": {},
   "outputs": [],
   "source": []
  },
  {
   "cell_type": "code",
   "execution_count": 133,
   "metadata": {},
   "outputs": [],
   "source": [
    "with open(\"satellites.txt\", \"w\") as f:\n",
    "    f.write(st.gp(epoch='>now-10', decay_date=None, format='3le'))"
   ]
  },
  {
   "cell_type": "code",
   "execution_count": 138,
   "metadata": {},
   "outputs": [
    {
     "data": {
      "text/plain": [
       "<pymongo.results.InsertManyResult at 0x12d1afd90>"
      ]
     },
     "execution_count": 138,
     "metadata": {},
     "output_type": "execute_result"
    }
   ],
   "source": [
    "# satellites = sky.load.tle_file(\"satellites.txt\", skip_names=False)\n",
    "# active_sat = []\n",
    "# ts = sky.load.timescale()\n",
    "# t = ts.now() \n",
    "# for s in satellites:\n",
    "#     lat = s.at(t).subpoint().latitude.degrees\n",
    "#     long = s.at(t).subpoint().longitude.degrees\n",
    "#     if s.name==\"TBA - TO BE ASSIGNED\" or np.isnan(lat) or np.isnan(long):\n",
    "#         continue\n",
    "#     active_sat.append({\n",
    "#         'id': s.model.satnum,\n",
    "#         'name': s.name,\n",
    "#         'latitude': lat,\n",
    "#         'longitude': long,\n",
    "#         }\n",
    "#     )\n",
    "\n",
    "with open(\"satellites.txt\", \"w\") as f:\n",
    "    f.write(st.gp(epoch='>now-10', decay_date=None, format='tle'))\n",
    "\n",
    "with open(\"satellites.txt\", \"r\") as f:\n",
    "    a = f.readlines()\n",
    "    \n",
    "active_sat = []\n",
    "i = 0 \n",
    "while i < len(a):\n",
    "    s = {\n",
    "        \"line1\": a[i].rstrip(),\n",
    "        \"line2\": a[i+1].rstrip()\n",
    "        }\n",
    "    active_sat.append(s)\n",
    "    i += 2\n",
    "    \n",
    "mc[\"sat\"].active.insert_many(active_sat)"
   ]
  },
  {
   "cell_type": "code",
   "execution_count": 139,
   "metadata": {},
   "outputs": [],
   "source": [
    "with open(\"french_sats.json\", \"r\") as f:\n",
    "    d = json.load(f)"
   ]
  },
  {
   "cell_type": "code",
   "execution_count": 140,
   "metadata": {},
   "outputs": [
    {
     "data": {
      "text/plain": [
       "<pymongo.results.InsertManyResult at 0x120852b00>"
      ]
     },
     "execution_count": 140,
     "metadata": {},
     "output_type": "execute_result"
    }
   ],
   "source": [
    "mc[\"sat\"].active_french.insert_many(d)"
   ]
  },
  {
   "cell_type": "code",
   "execution_count": null,
   "metadata": {},
   "outputs": [],
   "source": []
  },
  {
   "cell_type": "code",
   "execution_count": null,
   "metadata": {},
   "outputs": [],
   "source": []
  },
  {
   "cell_type": "code",
   "execution_count": 142,
   "metadata": {},
   "outputs": [],
   "source": [
    "files = [\n",
    "    (\"geo_lakes\", \"geodata/ne_50m_lakes.geojson\"),\n",
    "    (\"geo_rivers\", \"geodata/ne_110m_rivers_lake_centerlines.geojson\"),\n",
    "    (\"geo_countries\", \"geodata/ne_110m_admin_0_countries.geojson\"),\n",
    "    (\"geo_oceans\", \"geodata/oceans.json\"),\n",
    "]\n",
    "\n",
    "for name, file in files:\n",
    "    with open(file, \"r\") as f:\n",
    "        data = json.load(f)\n",
    "    mc[\"sat\"][name].insert_one(data)"
   ]
  },
  {
   "cell_type": "code",
   "execution_count": null,
   "metadata": {},
   "outputs": [],
   "source": []
  },
  {
   "cell_type": "code",
   "execution_count": null,
   "metadata": {},
   "outputs": [],
   "source": []
  },
  {
   "cell_type": "code",
   "execution_count": null,
   "metadata": {},
   "outputs": [],
   "source": []
  }
 ],
 "metadata": {
  "kernelspec": {
   "display_name": "Python 3 (ipykernel)",
   "language": "python",
   "name": "python3"
  },
  "language_info": {
   "codemirror_mode": {
    "name": "ipython",
    "version": 3
   },
   "file_extension": ".py",
   "mimetype": "text/x-python",
   "name": "python",
   "nbconvert_exporter": "python",
   "pygments_lexer": "ipython3",
   "version": "3.10.3"
  }
 },
 "nbformat": 4,
 "nbformat_minor": 4
}
