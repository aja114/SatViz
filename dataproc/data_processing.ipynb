{
 "cells": [
  {
   "cell_type": "code",
   "execution_count": 1,
   "metadata": {},
   "outputs": [],
   "source": [
    "import spacetrack.operators as op\n",
    "from spacetrack import SpaceTrackClient\n",
    "import pandas as pd\n",
    "from skyfield.api import Topos, load\n",
    "from skyfield import timelib\n",
    "import time\n",
    "import json\n",
    "\n",
    "st = SpaceTrackClient(identity='alexandreabouchahine@gmail.com', password='a2SzJcdBiqtd9j!')"
   ]
  },
  {
   "cell_type": "code",
   "execution_count": 2,
   "metadata": {},
   "outputs": [],
   "source": [
    "DATA_PATH = \"../visualisation/data/\""
   ]
  },
  {
   "cell_type": "code",
   "execution_count": 3,
   "metadata": {},
   "outputs": [],
   "source": [
    "satcat = st.satcat(orderby='launch', format='csv')"
   ]
  },
  {
   "cell_type": "code",
   "execution_count": 5,
   "metadata": {},
   "outputs": [],
   "source": [
    "launch_sites = pd.read_csv(\"launch_sites.csv\")"
   ]
  },
  {
   "cell_type": "code",
   "execution_count": 8,
   "metadata": {},
   "outputs": [],
   "source": [
    "with open('satellite.csv', 'w') as f:\n",
    "    f.write(satcat)"
   ]
  },
  {
   "cell_type": "code",
   "execution_count": 9,
   "metadata": {},
   "outputs": [],
   "source": [
    "satcat = pd.read_csv(\"satellite.csv\")"
   ]
  },
  {
   "cell_type": "code",
   "execution_count": 26,
   "metadata": {},
   "outputs": [
    {
     "data": {
      "text/plain": [
       "INTLDES                            1995-015FL\n",
       "NORAD_CAT_ID                            40672\n",
       "OBJECT_TYPE                            DEBRIS\n",
       "SATNAME                     DMSP 5D-2 F13 DEB\n",
       "COUNTRY                                    US\n",
       "LAUNCH                             1995-03-24\n",
       "SITE                                    AFWTR\n",
       "DECAY                                     NaN\n",
       "PERIOD                                 101.08\n",
       "INCLINATION                             98.75\n",
       "APOGEE                                    812\n",
       "PERIGEE                                   807\n",
       "COMMENT                                   NaN\n",
       "COMMENTCODE                               NaN\n",
       "RCSVALUE                                    0\n",
       "RCS_SIZE                                SMALL\n",
       "FILE                                     7524\n",
       "LAUNCH_YEAR                              1995\n",
       "LAUNCH_NUM                                 15\n",
       "LAUNCH_PIECE                               FL\n",
       "CURRENT                                     Y\n",
       "OBJECT_NAME                 DMSP 5D-2 F13 DEB\n",
       "OBJECT_ID                          1995-015FL\n",
       "OBJECT_NUMBER                           40672\n",
       "SITE_CODE                               AFWTR\n",
       "LAUNCH_SITE      AIR FORCE WESTERN TEST RANGE\n",
       "Name: 23450, dtype: object"
      ]
     },
     "execution_count": 26,
     "metadata": {},
     "output_type": "execute_result"
    }
   ],
   "source": [
    "satcat.iloc[23450]"
   ]
  },
  {
   "cell_type": "code",
   "execution_count": 14,
   "metadata": {},
   "outputs": [],
   "source": [
    "satcat = satcat.merge(launch_sites, left_on=\"SITE\", right_on=\"SITE_CODE\")"
   ]
  },
  {
   "cell_type": "code",
   "execution_count": 32,
   "metadata": {},
   "outputs": [],
   "source": [
    "satcat = satcat[['NORAD_CAT_ID', 'OBJECT_TYPE', 'SATNAME', 'COUNTRY',\n",
    "       'LAUNCH', 'DECAY', 'PERIOD', 'INCLINATION', 'APOGEE', 'PERIGEE',\n",
    "       'OBJECT_ID', 'OBJECT_NUMBER', 'LAUNCH_SITE']]"
   ]
  },
  {
   "cell_type": "code",
   "execution_count": 49,
   "metadata": {},
   "outputs": [],
   "source": [
    "satcat.to_json(f'{DATA_PATH}satcat.json', orient=\"records\")"
   ]
  },
  {
   "cell_type": "code",
   "execution_count": 43,
   "metadata": {},
   "outputs": [],
   "source": [
    "satcat = satcat.rename(columns={\"COUNTRY\":\"COUNTRY_\"})"
   ]
  },
  {
   "cell_type": "code",
   "execution_count": 46,
   "metadata": {},
   "outputs": [],
   "source": [
    "satcat = satcat.merge(countries[[\"COUNTRY\", \"SPADOC_CD\"]], left_on=\"COUNTRY_\", right_on=\"SPADOC_CD\")"
   ]
  },
  {
   "cell_type": "code",
   "execution_count": 47,
   "metadata": {},
   "outputs": [],
   "source": [
    "satcat = satcat[['NORAD_CAT_ID', 'OBJECT_TYPE', 'SATNAME', 'COUNTRY',\n",
    "       'LAUNCH', 'DECAY', 'PERIOD', 'INCLINATION', 'APOGEE', 'PERIGEE',\n",
    "       'OBJECT_ID', 'OBJECT_NUMBER', 'LAUNCH_SITE']]"
   ]
  },
  {
   "cell_type": "code",
   "execution_count": null,
   "metadata": {},
   "outputs": [],
   "source": []
  },
  {
   "cell_type": "code",
   "execution_count": 34,
   "metadata": {},
   "outputs": [],
   "source": [
    "boxscore = st.boxscore(format='csv')\n",
    "with open('countries.csv', 'w') as f:\n",
    "    f.write(boxscore)"
   ]
  },
  {
   "cell_type": "code",
   "execution_count": 3,
   "metadata": {},
   "outputs": [],
   "source": [
    "satcat = pd.read_csv(\"satellite.csv\")"
   ]
  },
  {
   "cell_type": "code",
   "execution_count": 35,
   "metadata": {},
   "outputs": [],
   "source": [
    "countries = pd.read_csv(\"countries.csv\")"
   ]
  },
  {
   "cell_type": "code",
   "execution_count": 15,
   "metadata": {},
   "outputs": [],
   "source": [
    "active_sats = st.tle_latest(ordinal=1, epoch='>now-30', decayed=op.not_equal(None), format='tle')"
   ]
  },
  {
   "cell_type": "code",
   "execution_count": 133,
   "metadata": {},
   "outputs": [],
   "source": [
    "with open('activesat.txt', 'w') as f:\n",
    "    f.write(active_sats)"
   ]
  },
  {
   "cell_type": "code",
   "execution_count": 134,
   "metadata": {},
   "outputs": [],
   "source": [
    "satellites = load.tle_file(\"activesat.txt\")"
   ]
  },
  {
   "cell_type": "code",
   "execution_count": 135,
   "metadata": {},
   "outputs": [
    {
     "name": "stdout",
     "output_type": "stream",
     "text": [
      "Loaded 19896 satellites\n"
     ]
    }
   ],
   "source": [
    "print('Loaded', len(satellites), 'satellites')"
   ]
  },
  {
   "cell_type": "code",
   "execution_count": 143,
   "metadata": {},
   "outputs": [
    {
     "data": {
      "text/plain": [
       "<bound method VectorFunction.satellite of <EarthSatellite CZ-11 R/B catalog #47239 epoch 2020-12-13 05:28:35 UTC>>"
      ]
     },
     "execution_count": 143,
     "metadata": {},
     "output_type": "execute_result"
    }
   ],
   "source": [
    "satellites[0].model."
   ]
  },
  {
   "cell_type": "code",
   "execution_count": 140,
   "metadata": {},
   "outputs": [],
   "source": [
    "by_name = {sat.name: sat for sat in satellites}"
   ]
  },
  {
   "cell_type": "code",
   "execution_count": 141,
   "metadata": {},
   "outputs": [
    {
     "name": "stdout",
     "output_type": "stream",
     "text": [
      "ISS (ZARYA) catalog #25544 epoch 2020-12-13 01:12:11 UTC\n"
     ]
    }
   ],
   "source": [
    "by_name = {sat.name: sat for sat in satellites}\n",
    "satellite = by_name['ISS (ZARYA)']\n",
    "print(satellite)"
   ]
  },
  {
   "cell_type": "code",
   "execution_count": 32,
   "metadata": {},
   "outputs": [
    {
     "name": "stdout",
     "output_type": "stream",
     "text": [
      "[-4756.5771459  -3189.48308463  3653.11513225]\n",
      "Latitude: 32deg 36' 05.2\"\n",
      "Longitude: 143deg 15' 46.4\"\n",
      "Elevation (m): 420905\n"
     ]
    }
   ],
   "source": [
    "# You can instead use ts.now() for the current time\n",
    "ts = load.timescale()\n",
    "t = ts.now() \n",
    "\n",
    "geocentric = satellite.at(t)\n",
    "print(geocentric.position.km)\n",
    "subpoint = geocentric.subpoint()\n",
    "print('Latitude:', subpoint.latitude)\n",
    "print('Longitude:', subpoint.longitude)\n",
    "print('Elevation (m):', int(subpoint.elevation.m))"
   ]
  },
  {
   "cell_type": "code",
   "execution_count": 29,
   "metadata": {},
   "outputs": [],
   "source": [
    "sat_dic = {'id':[], 'name':[], 'latitude':[], 'longitude':[]}\n",
    "ts = load.timescale()\n",
    "t = ts.now() \n",
    "for s in satellites:\n",
    "    sat_dic['id'].append(s.model.satnum)\n",
    "    sat_dic['name'].append(s.name)\n",
    "    sat_dic['latitude'].append(s.at(t).subpoint().latitude.degrees)\n",
    "    sat_dic['longitude'].append(s.at(t).subpoint().longitude.degrees)"
   ]
  },
  {
   "cell_type": "code",
   "execution_count": 8,
   "metadata": {},
   "outputs": [],
   "source": [
    "sat_df = pd.DataFrame.from_dict(sat_dic)\n",
    "sat_df = sat_df[~pd.isnull(sat_df['latitude'])]\n",
    "sat_df = sat_df[~(sat_df.name=='TBA - TO BE ASSIGNED')]"
   ]
  },
  {
   "cell_type": "code",
   "execution_count": 17,
   "metadata": {},
   "outputs": [],
   "source": [
    "sat_df.to_json(f\"{DATA_PATH}activesat.json\", orient=\"records\")"
   ]
  },
  {
   "cell_type": "code",
   "execution_count": 19,
   "metadata": {},
   "outputs": [],
   "source": [
    "satellite_data = satcat.merge(sat_df, left_on='NORAD_CAT_ID', right_on='id', how='outer')"
   ]
  },
  {
   "cell_type": "code",
   "execution_count": 20,
   "metadata": {},
   "outputs": [],
   "source": [
    "satellite_data.to_json(f'{DATA_PATH}satellite_data.json', orient=\"records\")"
   ]
  },
  {
   "cell_type": "code",
   "execution_count": 27,
   "metadata": {},
   "outputs": [],
   "source": [
    "french_satellite_data = satellite_data[satellite_data.COUNTRY=='FR']\n",
    "french_satellite_data.to_json(f'{DATA_PATH}french_satellite_data.json', orient=\"records\")"
   ]
  },
  {
   "cell_type": "code",
   "execution_count": 146,
   "metadata": {},
   "outputs": [],
   "source": [
    "french_satellite_data_id = french_satellite_data.id[~pd.isnull(french_satellite_data.id)]"
   ]
  },
  {
   "cell_type": "code",
   "execution_count": 147,
   "metadata": {},
   "outputs": [
    {
     "data": {
      "text/plain": [
       "2794      1778.0\n",
       "2795      1805.0\n",
       "2819      1814.0\n",
       "3064      2017.0\n",
       "3067      2016.0\n",
       "          ...   \n",
       "45974    45029.0\n",
       "46152    45247.0\n",
       "46153    45248.0\n",
       "46614    46115.0\n",
       "46615    46116.0\n",
       "Name: id, Length: 502, dtype: float64"
      ]
     },
     "execution_count": 147,
     "metadata": {},
     "output_type": "execute_result"
    }
   ],
   "source": [
    "french_satellite_data_id"
   ]
  },
  {
   "cell_type": "code",
   "execution_count": 213,
   "metadata": {},
   "outputs": [],
   "source": [
    "f_ids = set([str(int(x)) for x in french_satellite_data_id])"
   ]
  },
  {
   "cell_type": "code",
   "execution_count": 218,
   "metadata": {},
   "outputs": [],
   "source": [
    "fren_sats = ''\n",
    "with open('activesat.txt', 'r') as f:\n",
    "    l = f.readline()\n",
    "    while l != '':\n",
    "        if l[2:7] in f_ids:\n",
    "            fren_sats += l\n",
    "        l = f.readline()"
   ]
  },
  {
   "cell_type": "code",
   "execution_count": 220,
   "metadata": {},
   "outputs": [],
   "source": [
    "with open(\"french_sats.txt\", \"w\") as f:\n",
    "    f.write(fren_sats)"
   ]
  },
  {
   "cell_type": "code",
   "execution_count": 221,
   "metadata": {},
   "outputs": [],
   "source": [
    "fsatellites = load.tle_file(\"french_sats.txt\")"
   ]
  },
  {
   "cell_type": "code",
   "execution_count": 222,
   "metadata": {},
   "outputs": [
    {
     "name": "stdout",
     "output_type": "stream",
     "text": [
      "Loaded 483 satellites\n"
     ]
    }
   ],
   "source": [
    "print('Loaded', len(fsatellites), 'satellites')"
   ]
  },
  {
   "cell_type": "code",
   "execution_count": null,
   "metadata": {},
   "outputs": [],
   "source": []
  },
  {
   "cell_type": "code",
   "execution_count": 2,
   "metadata": {},
   "outputs": [],
   "source": [
    "with open(\"french_sats.txt\", \"r\") as f:\n",
    "    a = f.readlines()"
   ]
  },
  {
   "cell_type": "code",
   "execution_count": 9,
   "metadata": {},
   "outputs": [],
   "source": [
    "french_sat_json = []\n",
    "i = 0 \n",
    "while i < len(a):\n",
    "    s = {\n",
    "        \"line1\": a[i].rstrip(),\n",
    "        \"line2\": a[i+1].rstrip()\n",
    "        }\n",
    "    french_sat_json.append(s)\n",
    "    i += 2"
   ]
  },
  {
   "cell_type": "code",
   "execution_count": 11,
   "metadata": {},
   "outputs": [],
   "source": [
    "import json"
   ]
  },
  {
   "cell_type": "code",
   "execution_count": 12,
   "metadata": {},
   "outputs": [],
   "source": [
    "with open('french_sats.json', 'w') as f:\n",
    "    json.dump(french_sat_json, f)"
   ]
  },
  {
   "cell_type": "code",
   "execution_count": null,
   "metadata": {},
   "outputs": [],
   "source": []
  },
  {
   "cell_type": "code",
   "execution_count": 26,
   "metadata": {},
   "outputs": [],
   "source": [
    "active_sats = st.tle_latest(ordinal=1, epoch='>now-30', decayed=op.not_equal(None), format='tle')\n",
    "with open(\"activesat.txt\", \"w\") as f:\n",
    "    f.write(active_sats)"
   ]
  },
  {
   "cell_type": "code",
   "execution_count": 27,
   "metadata": {},
   "outputs": [],
   "source": [
    "with open(\"activesat.txt\", \"r\") as f:\n",
    "    a = f.readlines()"
   ]
  },
  {
   "cell_type": "code",
   "execution_count": 29,
   "metadata": {},
   "outputs": [],
   "source": [
    "activesat_json = []\n",
    "i = 0 \n",
    "while i < len(a):\n",
    "    s = {\n",
    "        \"line1\": a[i].rstrip(),\n",
    "        \"line2\": a[i+1].rstrip()\n",
    "        }\n",
    "    activesat_json.append(s)\n",
    "    i += 2"
   ]
  },
  {
   "cell_type": "code",
   "execution_count": 30,
   "metadata": {},
   "outputs": [],
   "source": [
    "with open(f'{DATA_PATH}activesat.json', 'w') as f:\n",
    "    json.dump(activesat_json, f)"
   ]
  },
  {
   "cell_type": "code",
   "execution_count": null,
   "metadata": {},
   "outputs": [],
   "source": []
  }
 ],
 "metadata": {
  "kernelspec": {
   "display_name": "Python 3",
   "language": "python",
   "name": "python3"
  },
  "language_info": {
   "codemirror_mode": {
    "name": "ipython",
    "version": 3
   },
   "file_extension": ".py",
   "mimetype": "text/x-python",
   "name": "python",
   "nbconvert_exporter": "python",
   "pygments_lexer": "ipython3",
   "version": "3.7.6"
  }
 },
 "nbformat": 4,
 "nbformat_minor": 4
}
